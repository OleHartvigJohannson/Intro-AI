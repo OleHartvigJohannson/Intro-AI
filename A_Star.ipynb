{
 "cells": [
  {
   "cell_type": "code",
   "execution_count": 15,
   "metadata": {},
   "outputs": [],
   "source": [
    "from Map import Map_Obj\n",
    "from queue import PriorityQueue\n",
    "themap=Map_Obj(task=1)\n"
   ]
  },
  {
   "cell_type": "code",
   "execution_count": 16,
   "metadata": {},
   "outputs": [],
   "source": [
    "themap.show_map()"
   ]
  },
  {
   "cell_type": "code",
   "execution_count": 39,
   "metadata": {},
   "outputs": [],
   "source": [
    "class Node():\n",
    "    def __init__(self, parent=None, position=None):\n",
    "        self.parent = parent\n",
    "        self.position = tuple(position) #x and y coordinates describing the position of the node\n",
    "\n",
    "        self.g = 0  # cost from start to this node\n",
    "        self.h = 0  # heuristic cost from this node to the goal\n",
    "        self.f = 0  # total cost. This is the sum of g and h\n",
    "\n",
    "\n",
    "def print_node(self): #For testing\n",
    "    return f'{self.position[0]}, {self.position[1]}'\n",
    "\n",
    "\n"
   ]
  },
  {
   "cell_type": "code",
   "execution_count": 43,
   "metadata": {},
   "outputs": [
    {
     "data": {
      "text/plain": [
       "-1"
      ]
     },
     "execution_count": 43,
     "metadata": {},
     "output_type": "execute_result"
    }
   ],
   "source": [
    "node=Node(position=(1,1))\n",
    "#node.g=4\n",
    "#print_node(node)\n",
    "themap.get_cell_value(node.position)"
   ]
  },
  {
   "cell_type": "code",
   "execution_count": 44,
   "metadata": {},
   "outputs": [
    {
     "data": {
      "text/plain": [
       "70"
      ]
     },
     "execution_count": 44,
     "metadata": {},
     "output_type": "execute_result"
    }
   ],
   "source": [
    "#Function that calculates the manhattan distance from the a position to the goal position\n",
    "def get_heuristic(position, map_obj):\n",
    "    goal = map_obj.get_goal_pos()\n",
    "    return abs(goal[0]-position[0]) + abs(goal[1]-position[1])\n",
    "\n",
    "##start=themap.get_start_pos()\n",
    "get_heuristic(node.position,themap)"
   ]
  },
  {
   "cell_type": "code",
   "execution_count": 26,
   "metadata": {},
   "outputs": [],
   "source": [
    "#This function checks whether we have reached the goal or not\n",
    "def are_we_there_yet(position):\n",
    "    goal=themap.get_goal_pos\n",
    "    if position==goal:\n",
    "        return True\n",
    "    else:\n",
    "        return False\n",
    "#node.position=themap.get_start_pos\n",
    "#are_we_there_yet(node.position)"
   ]
  },
  {
   "cell_type": "code",
   "execution_count": 58,
   "metadata": {},
   "outputs": [
    {
     "data": {
      "text/plain": [
       "'not a valid position'"
      ]
     },
     "execution_count": 58,
     "metadata": {},
     "output_type": "execute_result"
    }
   ],
   "source": [
    "#Check if the node has a valid position. Check that it is not a wall, and that it is within the borders of the grid\n",
    "def valid_position(new_node):\n",
    "    x_limit, y_limit = themap.int_map.shape\n",
    "    if new_node.position[0]<= x_limit and new_node.position[1]<= y_limit and themap.get_cell_value(new_node.position) != -1:\n",
    "        return True\n",
    "    else:\n",
    "        return \"not a valid position\"\n",
    "\n",
    "valid_position(node)"
   ]
  },
  {
   "cell_type": "code",
   "execution_count": 72,
   "metadata": {},
   "outputs": [
    {
     "data": {
      "text/plain": [
       "True"
      ]
     },
     "execution_count": 72,
     "metadata": {},
     "output_type": "execute_result"
    }
   ],
   "source": [
    "node.position=themap.get_start_pos()\n",
    "valid_position(node)\n",
    "#x_limit, y_limit = themap.int_map.shape\n",
    "#(x,y)= node.position\n",
    "#print(y_limit)"
   ]
  },
  {
   "cell_type": "code",
   "execution_count": 71,
   "metadata": {},
   "outputs": [
    {
     "data": {
      "text/plain": [
       "[27, 18]"
      ]
     },
     "execution_count": 71,
     "metadata": {},
     "output_type": "execute_result"
    }
   ],
   "source": [
    "\n",
    "\n",
    "\n",
    "\n",
    "\n"
   ]
  },
  {
   "cell_type": "code",
   "execution_count": null,
   "metadata": {},
   "outputs": [],
   "source": []
  }
 ],
 "metadata": {
  "kernelspec": {
   "display_name": "base",
   "language": "python",
   "name": "python3"
  },
  "language_info": {
   "codemirror_mode": {
    "name": "ipython",
    "version": 3
   },
   "file_extension": ".py",
   "mimetype": "text/x-python",
   "name": "python",
   "nbconvert_exporter": "python",
   "pygments_lexer": "ipython3",
   "version": "3.9.12"
  },
  "orig_nbformat": 4
 },
 "nbformat": 4,
 "nbformat_minor": 2
}
